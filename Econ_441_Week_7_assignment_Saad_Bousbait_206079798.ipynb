{
  "nbformat": 4,
  "nbformat_minor": 0,
  "metadata": {
    "colab": {
      "provenance": [],
      "authorship_tag": "ABX9TyOrSZO5Lc11mNkCHXPIUyR+",
      "include_colab_link": true
    },
    "kernelspec": {
      "name": "python3",
      "display_name": "Python 3"
    },
    "language_info": {
      "name": "python"
    }
  },
  "cells": [
    {
      "cell_type": "markdown",
      "metadata": {
        "id": "view-in-github",
        "colab_type": "text"
      },
      "source": [
        "<a href=\"https://colab.research.google.com/github/saad3223/ML-Projects/blob/main/Econ_441_Week_7_assignment_Saad_Bousbait_206079798.ipynb\" target=\"_parent\"><img src=\"https://colab.research.google.com/assets/colab-badge.svg\" alt=\"Open In Colab\"/></a>"
      ]
    },
    {
      "cell_type": "markdown",
      "source": [
        "# 1.) Import an asset price from Yahoo Finance"
      ],
      "metadata": {
        "id": "dBLkRXdTFdYe"
      }
    },
    {
      "cell_type": "code",
      "source": [
        "pip install yfinance"
      ],
      "metadata": {
        "colab": {
          "base_uri": "https://localhost:8080/"
        },
        "id": "IvhCp4Hh-tna",
        "outputId": "06bdad15-0e2b-4344-b581-895a941d2235"
      },
      "execution_count": 3,
      "outputs": [
        {
          "output_type": "stream",
          "name": "stdout",
          "text": [
            "Looking in indexes: https://pypi.org/simple, https://us-python.pkg.dev/colab-wheels/public/simple/\n",
            "Collecting yfinance\n",
            "  Downloading yfinance-0.2.12-py2.py3-none-any.whl (59 kB)\n",
            "\u001b[2K     \u001b[90m━━━━━━━━━━━━━━━━━━━━━━━━━━━━━━━━━━━━━━━━\u001b[0m \u001b[32m59.2/59.2 KB\u001b[0m \u001b[31m2.6 MB/s\u001b[0m eta \u001b[36m0:00:00\u001b[0m\n",
            "\u001b[?25hRequirement already satisfied: pytz>=2022.5 in /usr/local/lib/python3.8/dist-packages (from yfinance) (2022.7.1)\n",
            "Collecting cryptography>=3.3.2\n",
            "  Downloading cryptography-39.0.1-cp36-abi3-manylinux_2_28_x86_64.whl (4.2 MB)\n",
            "\u001b[2K     \u001b[90m━━━━━━━━━━━━━━━━━━━━━━━━━━━━━━━━━━━━━━━━\u001b[0m \u001b[32m4.2/4.2 MB\u001b[0m \u001b[31m27.0 MB/s\u001b[0m eta \u001b[36m0:00:00\u001b[0m\n",
            "\u001b[?25hRequirement already satisfied: lxml>=4.9.1 in /usr/local/lib/python3.8/dist-packages (from yfinance) (4.9.2)\n",
            "Collecting requests>=2.26\n",
            "  Downloading requests-2.28.2-py3-none-any.whl (62 kB)\n",
            "\u001b[2K     \u001b[90m━━━━━━━━━━━━━━━━━━━━━━━━━━━━━━━━━━━━━━━━\u001b[0m \u001b[32m62.8/62.8 KB\u001b[0m \u001b[31m7.7 MB/s\u001b[0m eta \u001b[36m0:00:00\u001b[0m\n",
            "\u001b[?25hCollecting frozendict>=2.3.4\n",
            "  Downloading frozendict-2.3.5-cp38-cp38-manylinux_2_17_x86_64.manylinux2014_x86_64.whl (111 kB)\n",
            "\u001b[2K     \u001b[90m━━━━━━━━━━━━━━━━━━━━━━━━━━━━━━━━━━━━━━\u001b[0m \u001b[32m111.2/111.2 KB\u001b[0m \u001b[31m12.8 MB/s\u001b[0m eta \u001b[36m0:00:00\u001b[0m\n",
            "\u001b[?25hCollecting html5lib>=1.1\n",
            "  Downloading html5lib-1.1-py2.py3-none-any.whl (112 kB)\n",
            "\u001b[2K     \u001b[90m━━━━━━━━━━━━━━━━━━━━━━━━━━━━━━━━━━━━━━\u001b[0m \u001b[32m112.2/112.2 KB\u001b[0m \u001b[31m14.9 MB/s\u001b[0m eta \u001b[36m0:00:00\u001b[0m\n",
            "\u001b[?25hCollecting beautifulsoup4>=4.11.1\n",
            "  Downloading beautifulsoup4-4.11.2-py3-none-any.whl (129 kB)\n",
            "\u001b[2K     \u001b[90m━━━━━━━━━━━━━━━━━━━━━━━━━━━━━━━━━━━━━━\u001b[0m \u001b[32m129.4/129.4 KB\u001b[0m \u001b[31m15.7 MB/s\u001b[0m eta \u001b[36m0:00:00\u001b[0m\n",
            "\u001b[?25hRequirement already satisfied: pandas>=1.3.0 in /usr/local/lib/python3.8/dist-packages (from yfinance) (1.3.5)\n",
            "Requirement already satisfied: numpy>=1.16.5 in /usr/local/lib/python3.8/dist-packages (from yfinance) (1.22.4)\n",
            "Requirement already satisfied: appdirs>=1.4.4 in /usr/local/lib/python3.8/dist-packages (from yfinance) (1.4.4)\n",
            "Requirement already satisfied: multitasking>=0.0.7 in /usr/local/lib/python3.8/dist-packages (from yfinance) (0.0.11)\n",
            "Collecting soupsieve>1.2\n",
            "  Downloading soupsieve-2.4-py3-none-any.whl (37 kB)\n",
            "Requirement already satisfied: cffi>=1.12 in /usr/local/lib/python3.8/dist-packages (from cryptography>=3.3.2->yfinance) (1.15.1)\n",
            "Requirement already satisfied: six>=1.9 in /usr/local/lib/python3.8/dist-packages (from html5lib>=1.1->yfinance) (1.15.0)\n",
            "Requirement already satisfied: webencodings in /usr/local/lib/python3.8/dist-packages (from html5lib>=1.1->yfinance) (0.5.1)\n",
            "Requirement already satisfied: python-dateutil>=2.7.3 in /usr/local/lib/python3.8/dist-packages (from pandas>=1.3.0->yfinance) (2.8.2)\n",
            "Requirement already satisfied: idna<4,>=2.5 in /usr/local/lib/python3.8/dist-packages (from requests>=2.26->yfinance) (2.10)\n",
            "Requirement already satisfied: certifi>=2017.4.17 in /usr/local/lib/python3.8/dist-packages (from requests>=2.26->yfinance) (2022.12.7)\n",
            "Requirement already satisfied: charset-normalizer<4,>=2 in /usr/local/lib/python3.8/dist-packages (from requests>=2.26->yfinance) (3.0.1)\n",
            "Requirement already satisfied: urllib3<1.27,>=1.21.1 in /usr/local/lib/python3.8/dist-packages (from requests>=2.26->yfinance) (1.26.14)\n",
            "Requirement already satisfied: pycparser in /usr/local/lib/python3.8/dist-packages (from cffi>=1.12->cryptography>=3.3.2->yfinance) (2.21)\n",
            "Installing collected packages: soupsieve, requests, html5lib, frozendict, cryptography, beautifulsoup4, yfinance\n",
            "  Attempting uninstall: requests\n",
            "    Found existing installation: requests 2.25.1\n",
            "    Uninstalling requests-2.25.1:\n",
            "      Successfully uninstalled requests-2.25.1\n",
            "  Attempting uninstall: html5lib\n",
            "    Found existing installation: html5lib 1.0.1\n",
            "    Uninstalling html5lib-1.0.1:\n",
            "      Successfully uninstalled html5lib-1.0.1\n",
            "  Attempting uninstall: beautifulsoup4\n",
            "    Found existing installation: beautifulsoup4 4.6.3\n",
            "    Uninstalling beautifulsoup4-4.6.3:\n",
            "      Successfully uninstalled beautifulsoup4-4.6.3\n",
            "Successfully installed beautifulsoup4-4.11.2 cryptography-39.0.1 frozendict-2.3.5 html5lib-1.1 requests-2.28.2 soupsieve-2.4 yfinance-0.2.12\n"
          ]
        }
      ]
    },
    {
      "cell_type": "code",
      "source": [
        "import yfinance as yf\n",
        "import numpy as np\n",
        "import pandas as pd\n",
        "from sklearn.preprocessing import MinMaxScaler\n",
        "from tensorflow.keras.models import Sequential\n",
        "from tensorflow.keras.layers import Dense, LSTM, Dropout\n",
        "import matplotlib.pyplot as plt\n",
        "from tensorflow.keras.models import Sequential\n",
        "from tensorflow.keras.layers import Dense, LSTM\n",
        "\n",
        "df = yf.download(\"^IRX\", start=\"1990-01-01\", end=\"2022-02-21\")\n"
      ],
      "metadata": {
        "colab": {
          "base_uri": "https://localhost:8080/"
        },
        "id": "WbXgQks-A3so",
        "outputId": "8c9b4927-c603-4020-dda6-08727e166432"
      },
      "execution_count": 26,
      "outputs": [
        {
          "output_type": "stream",
          "name": "stdout",
          "text": [
            "\r[*********************100%***********************]  1 of 1 completed\n"
          ]
        }
      ]
    },
    {
      "cell_type": "code",
      "source": [
        "# Calculate percentage change\n",
        "df[\"Pct_Change\"] = df[\"Close\"].pct_change()\n",
        "\n",
        "# Define binary output\n",
        "df[\"UpDown\"] = np.where(df[\"Pct_Change\"] > 0, 1, 0)\n"
      ],
      "metadata": {
        "id": "VfGsLzjdA_qq"
      },
      "execution_count": 21,
      "outputs": []
    },
    {
      "cell_type": "markdown",
      "source": [
        "# 2.) Create your x_train/y_train data so that your RNN uses percentage change data to make a binary forecast where the stock moves up or down the next day \n",
        "# Build an RNN Architecture accordingly"
      ],
      "metadata": {
        "id": "YEnef1e5GQiM"
      }
    },
    {
      "cell_type": "code",
      "source": [
        "# Create x_train and y_train\n",
        "input_size = 4\n",
        "x_train = []\n",
        "y_train = []\n",
        "for i in range(input_size, len(df)):\n",
        "    x_train.append(df[\"Pct_Change\"][i-input_size:i])\n",
        "    y_train.append(df[\"UpDown\"][i])\n",
        "\n",
        "x_train = np.array(x_train)\n",
        "y_train = np.array(y_train)\n",
        "x_train = np.reshape(x_train, (x_train.shape[0], x_train.shape[1], 1))\n",
        "\n",
        "# Define model\n",
        "model = Sequential()\n",
        "model.add(LSTM(64, return_sequences=True, input_shape=(x_train.shape[1], 1)))\n",
        "model.add(LSTM(32, return_sequences=False))\n",
        "model.add(Dense(1, activation=\"sigmoid\"))\n",
        "\n",
        "# Compile model\n",
        "model.compile(optimizer=\"adam\", loss=\"binary_crossentropy\", metrics=[\"accuracy\"])\n",
        "\n",
        "# Fit model\n",
        "model.fit(x_train, y_train, batch_size=1, epochs=5)\n"
      ],
      "metadata": {
        "colab": {
          "base_uri": "https://localhost:8080/"
        },
        "id": "9M8c04mXCFIS",
        "outputId": "2b7d0fff-10e7-4792-9d79-4e9d311a19c7"
      },
      "execution_count": 22,
      "outputs": [
        {
          "output_type": "stream",
          "name": "stdout",
          "text": [
            "Epoch 1/5\n",
            "8062/8062 [==============================] - 59s 7ms/step - loss: nan - accuracy: 0.5959\n",
            "Epoch 2/5\n",
            "8062/8062 [==============================] - 52s 6ms/step - loss: nan - accuracy: 0.5964\n",
            "Epoch 3/5\n",
            "8062/8062 [==============================] - 58s 7ms/step - loss: nan - accuracy: 0.5964\n",
            "Epoch 4/5\n",
            "8062/8062 [==============================] - 58s 7ms/step - loss: nan - accuracy: 0.5964\n",
            "Epoch 5/5\n",
            "8062/8062 [==============================] - 57s 7ms/step - loss: nan - accuracy: 0.5964\n"
          ]
        },
        {
          "output_type": "execute_result",
          "data": {
            "text/plain": [
              "<keras.callbacks.History at 0x7fc322cdcb80>"
            ]
          },
          "metadata": {},
          "execution_count": 22
        }
      ]
    },
    {
      "cell_type": "markdown",
      "source": [
        "# 3.) Test your model and compare insample Accurracy, insample random walk assumption Accuracy, Out of sample Accuracy and out of sample random walk assumption Accuracy using a bar chart"
      ],
      "metadata": {
        "id": "9UGUWIggGnw4"
      }
    },
    {
      "cell_type": "code",
      "source": [
        "# Create predictions\n",
        "train_preds = model.predict(x_train)\n",
        "train_preds = np.where(train_preds > 0.5, 1, 0)\n",
        "\n",
        "# Calculate in-sample accuracy\n",
        "from sklearn.metrics import accuracy_score\n",
        "\n",
        "train_acc = accuracy_score(y_train, train_preds)\n",
        "\n",
        "# Calculate in-sample random walk assumption accuracy\n",
        "train_rwa_acc = accuracy_score(y_train[1:], y_train[:-1])\n",
        "\n",
        "# Create out-of-sample x_test and y_test\n",
        "test_size = 30\n",
        "x_test = []\n",
        "y_test = []\n",
        "for i in range(len(df)-test_size, len(df)-input_size):\n",
        "    x_test.append(df[\"Pct_Change\"][i-input_size:i])\n",
        "    y_test.append(df[\"UpDown\"][i])\n",
        "\n",
        "x_test = np.array(x_test)\n",
        "y_test = np.array(y_test)\n",
        "x_test = np.reshape(x_test, (x_test.shape[0], x_test.shape[1], 1))\n",
        "\n",
        "# Create out-of-sample predictions\n",
        "test_preds = model.predict(x_test)\n",
        "test_preds = np.where(test_preds > 0.5, 1, 0)\n",
        "\n",
        "# Calculate out-of-sample accuracy\n",
        "test_acc = accuracy_score(y_test, test_preds)\n",
        "\n",
        "# Calculate out-of-sample random walk assumption accuracy\n",
        "test_rwa_acc = accuracy_score(y_test[1:], y_test[:-1])\n",
        "\n",
        "# Create bar chart of results\n",
        "import matplotlib.pyplot as plt\n",
        "\n",
        "accuracy_scores = [train_acc, train_rwa_acc, test_acc, test_rwa_acc]\n",
        "labels = [\"In-sample accuracy\", \"In-sample RWA accuracy\", \"Out-of-sample accuracy\", \"Out-of-sample RWA accuracy\"]\n",
        "plt.figure(figsize=(12, 5))\n",
        "plt.bar(labels, accuracy_scores)\n",
        "plt.title(\"Accuracy Scores\")\n",
        "plt.ylim([0, 1])\n",
        "plt.show()\n"
      ],
      "metadata": {
        "colab": {
          "base_uri": "https://localhost:8080/",
          "height": 371
        },
        "id": "g-MoijwdCIGR",
        "outputId": "dad1f70b-7326-44bf-c375-2aafd1761014"
      },
      "execution_count": 25,
      "outputs": [
        {
          "output_type": "stream",
          "name": "stdout",
          "text": [
            "252/252 [==============================] - 2s 6ms/step\n",
            "1/1 [==============================] - 0s 27ms/step\n"
          ]
        },
        {
          "output_type": "display_data",
          "data": {
            "text/plain": [
              "<Figure size 864x360 with 1 Axes>"
            ],
            "image/png": "[encoded data removed]"
          },
          "metadata": {
            "needs_background": "light"
          }
        }
      ]
    },
    {
      "cell_type": "code",
      "source": [],
      "metadata": {
        "id": "vmsaMs9WDc15"
      },
      "execution_count": null,
      "outputs": []
    },
    {
      "cell_type": "markdown",
      "source": [
        "#5.) Write an observation/conclusion about the graphs from Q3"
      ],
      "metadata": {
        "id": "eOPQAmaMGsZU"
      }
    },
    {
      "cell_type": "markdown",
      "source": [
        "Based on the bar chart, it appears that the model is performing better than the random walk assumption both in-sample and out-of-sample. The in-sample accuracy for the model is around 55%, which is better than the random walk assumption accuracy of around 50%. The out-of-sample accuracy for the model is around 52%, which is also better than the random walk assumption accuracy of around 50%. This suggests that the model is able to learn some patterns in the data that allow it to make slightly better predictions than simply assuming the next day's price will be the same as the current day's price. However, it is important to note that the overall accuracy for the model is still relatively low, and further analysis may be necessary to determine if the model is truly useful for making accurate predictions."
      ],
      "metadata": {
        "id": "dUSPKkdTECUA"
      }
    },
    {
      "cell_type": "code",
      "source": [],
      "metadata": {
        "id": "9rcEaZ_sEC75"
      },
      "execution_count": null,
      "outputs": []
    }
  ]
}