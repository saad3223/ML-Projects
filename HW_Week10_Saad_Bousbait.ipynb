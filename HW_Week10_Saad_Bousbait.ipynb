{
  "nbformat": 4,
  "nbformat_minor": 0,
  "metadata": {
    "colab": {
      "provenance": [],
      "include_colab_link": true
    },
    "kernelspec": {
      "name": "python3",
      "display_name": "Python 3"
    },
    "language_info": {
      "name": "python"
    }
  },
  "cells": [
    {
      "cell_type": "markdown",
      "metadata": {
        "id": "view-in-github",
        "colab_type": "text"
      },
      "source": [
        "<a href=\"https://colab.research.google.com/github/saad3223/ML-Projects/blob/main/HW_Week10_Saad_Bousbait.ipynb\" target=\"_parent\"><img src=\"https://colab.research.google.com/assets/colab-badge.svg\" alt=\"Open In Colab\"/></a>"
      ]
    },
    {
      "cell_type": "markdown",
      "source": [
        "# 0.) Import and Clean data"
      ],
      "metadata": {
        "id": "7ywSRtNI4s5h"
      }
    },
    {
      "cell_type": "code",
      "execution_count": 1,
      "metadata": {
        "id": "nsG1QV154GYZ"
      },
      "outputs": [],
      "source": [
        "import pandas as pd\n",
        "from google.colab import drive\n",
        "import matplotlib.pyplot as plt\n",
        "import numpy as np"
      ]
    },
    {
      "cell_type": "code",
      "source": [
        "from sklearn.preprocessing import StandardScaler\n",
        "\n",
        "import seaborn as sns\n",
        "from sklearn.decomposition import PCA"
      ],
      "metadata": {
        "id": "lFEZb7-YfvAj"
      },
      "execution_count": 2,
      "outputs": []
    },
    {
      "cell_type": "code",
      "source": [
        "drive.mount('/content/gdrive/', force_remount = True)"
      ],
      "metadata": {
        "colab": {
          "base_uri": "https://localhost:8080/"
        },
        "id": "Iku0T8Ou4Lcu",
        "outputId": "dda9791a-ecc4-4217-f539-8fce3927ab83"
      },
      "execution_count": 3,
      "outputs": [
        {
          "output_type": "stream",
          "name": "stdout",
          "text": [
            "Mounted at /content/gdrive/\n"
          ]
        }
      ]
    },
    {
      "cell_type": "code",
      "source": [
        "df = pd.read_csv(\"/content/gdrive/MyDrive/Econ441B/Country-data.csv\", sep = \",\")"
      ],
      "metadata": {
        "id": "KJQfo8mz43Kz"
      },
      "execution_count": 4,
      "outputs": []
    },
    {
      "cell_type": "code",
      "source": [
        "df.head()"
      ],
      "metadata": {
        "colab": {
          "base_uri": "https://localhost:8080/",
          "height": 250
        },
        "id": "mKWSRv-q98wE",
        "outputId": "51573e6c-50ad-4982-c56c-1f10ddba188b"
      },
      "execution_count": 5,
      "outputs": [
        {
          "output_type": "execute_result",
          "data": {
            "text/plain": [
              "               country  child_mort  exports  health  imports  income  \\\n",
              "0          Afghanistan        90.2     10.0    7.58     44.9    1610   \n",
              "1              Albania        16.6     28.0    6.55     48.6    9930   \n",
              "2              Algeria        27.3     38.4    4.17     31.4   12900   \n",
              "3               Angola       119.0     62.3    2.85     42.9    5900   \n",
              "4  Antigua and Barbuda        10.3     45.5    6.03     58.9   19100   \n",
              "\n",
              "   inflation  life_expec  total_fer   gdpp  \n",
              "0       9.44        56.2       5.82    553  \n",
              "1       4.49        76.3       1.65   4090  \n",
              "2      16.10        76.5       2.89   4460  \n",
              "3      22.40        60.1       6.16   3530  \n",
              "4       1.44        76.8       2.13  12200  "
            ],
            "text/html": [
              "\n",
              "  <div id=\"df-cbda00de-83ed-4840-a2f7-4f70ded7a99b\">\n",
              "    <div class=\"colab-df-container\">\n",
              "      <div>\n",
              "<style scoped>\n",
              "    .dataframe tbody tr th:only-of-type {\n",
              "        vertical-align: middle;\n",
              "    }\n",
              "\n",
              "    .dataframe tbody tr th {\n",
              "        vertical-align: top;\n",
              "    }\n",
              "\n",
              "    .dataframe thead th {\n",
              "        text-align: right;\n",
              "    }\n",
              "</style>\n",
              "<table border=\"1\" class=\"dataframe\">\n",
              "  <thead>\n",
              "    <tr style=\"text-align: right;\">\n",
              "      <th></th>\n",
              "      <th>country</th>\n",
              "      <th>child_mort</th>\n",
              "      <th>exports</th>\n",
              "      <th>health</th>\n",
              "      <th>imports</th>\n",
              "      <th>income</th>\n",
              "      <th>inflation</th>\n",
              "      <th>life_expec</th>\n",
              "      <th>total_fer</th>\n",
              "      <th>gdpp</th>\n",
              "    </tr>\n",
              "  </thead>\n",
              "  <tbody>\n",
              "    <tr>\n",
              "      <th>0</th>\n",
              "      <td>Afghanistan</td>\n",
              "      <td>90.2</td>\n",
              "      <td>10.0</td>\n",
              "      <td>7.58</td>\n",
              "      <td>44.9</td>\n",
              "      <td>1610</td>\n",
              "      <td>9.44</td>\n",
              "      <td>56.2</td>\n",
              "      <td>5.82</td>\n",
              "      <td>553</td>\n",
              "    </tr>\n",
              "    <tr>\n",
              "      <th>1</th>\n",
              "      <td>Albania</td>\n",
              "      <td>16.6</td>\n",
              "      <td>28.0</td>\n",
              "      <td>6.55</td>\n",
              "      <td>48.6</td>\n",
              "      <td>9930</td>\n",
              "      <td>4.49</td>\n",
              "      <td>76.3</td>\n",
              "      <td>1.65</td>\n",
              "      <td>4090</td>\n",
              "    </tr>\n",
              "    <tr>\n",
              "      <th>2</th>\n",
              "      <td>Algeria</td>\n",
              "      <td>27.3</td>\n",
              "      <td>38.4</td>\n",
              "      <td>4.17</td>\n",
              "      <td>31.4</td>\n",
              "      <td>12900</td>\n",
              "      <td>16.10</td>\n",
              "      <td>76.5</td>\n",
              "      <td>2.89</td>\n",
              "      <td>4460</td>\n",
              "    </tr>\n",
              "    <tr>\n",
              "      <th>3</th>\n",
              "      <td>Angola</td>\n",
              "      <td>119.0</td>\n",
              "      <td>62.3</td>\n",
              "      <td>2.85</td>\n",
              "      <td>42.9</td>\n",
              "      <td>5900</td>\n",
              "      <td>22.40</td>\n",
              "      <td>60.1</td>\n",
              "      <td>6.16</td>\n",
              "      <td>3530</td>\n",
              "    </tr>\n",
              "    <tr>\n",
              "      <th>4</th>\n",
              "      <td>Antigua and Barbuda</td>\n",
              "      <td>10.3</td>\n",
              "      <td>45.5</td>\n",
              "      <td>6.03</td>\n",
              "      <td>58.9</td>\n",
              "      <td>19100</td>\n",
              "      <td>1.44</td>\n",
              "      <td>76.8</td>\n",
              "      <td>2.13</td>\n",
              "      <td>12200</td>\n",
              "    </tr>\n",
              "  </tbody>\n",
              "</table>\n",
              "</div>\n",
              "      <button class=\"colab-df-convert\" onclick=\"convertToInteractive('df-cbda00de-83ed-4840-a2f7-4f70ded7a99b')\"\n",
              "              title=\"Convert this dataframe to an interactive table.\"\n",
              "              style=\"display:none;\">\n",
              "        \n",
              "  <svg xmlns=\"http://www.w3.org/2000/svg\" height=\"24px\"viewBox=\"0 0 24 24\"\n",
              "       width=\"24px\">\n",
              "    <path d=\"M0 0h24v24H0V0z\" fill=\"none\"/>\n",
              "    <path d=\"M18.56 5.44l.94 2.06.94-2.06 2.06-.94-2.06-.94-.94-2.06-.94 2.06-2.06.94zm-11 1L8.5 8.5l.94-2.06 2.06-.94-2.06-.94L8.5 2.5l-.94 2.06-2.06.94zm10 10l.94 2.06.94-2.06 2.06-.94-2.06-.94-.94-2.06-.94 2.06-2.06.94z\"/><path d=\"M17.41 7.96l-1.37-1.37c-.4-.4-.92-.59-1.43-.59-.52 0-1.04.2-1.43.59L10.3 9.45l-7.72 7.72c-.78.78-.78 2.05 0 2.83L4 21.41c.39.39.9.59 1.41.59.51 0 1.02-.2 1.41-.59l7.78-7.78 2.81-2.81c.8-.78.8-2.07 0-2.86zM5.41 20L4 18.59l7.72-7.72 1.47 1.35L5.41 20z\"/>\n",
              "  </svg>\n",
              "      </button>\n",
              "      \n",
              "  <style>\n",
              "    .colab-df-container {\n",
              "      display:flex;\n",
              "      flex-wrap:wrap;\n",
              "      gap: 12px;\n",
              "    }\n",
              "\n",
              "    .colab-df-convert {\n",
              "      background-color: #E8F0FE;\n",
              "      border: none;\n",
              "      border-radius: 50%;\n",
              "      cursor: pointer;\n",
              "      display: none;\n",
              "      fill: #1967D2;\n",
              "      height: 32px;\n",
              "      padding: 0 0 0 0;\n",
              "      width: 32px;\n",
              "    }\n",
              "\n",
              "    .colab-df-convert:hover {\n",
              "      background-color: #E2EBFA;\n",
              "      box-shadow: 0px 1px 2px rgba(60, 64, 67, 0.3), 0px 1px 3px 1px rgba(60, 64, 67, 0.15);\n",
              "      fill: #174EA6;\n",
              "    }\n",
              "\n",
              "    [theme=dark] .colab-df-convert {\n",
              "      background-color: #3B4455;\n",
              "      fill: #D2E3FC;\n",
              "    }\n",
              "\n",
              "    [theme=dark] .colab-df-convert:hover {\n",
              "      background-color: #434B5C;\n",
              "      box-shadow: 0px 1px 3px 1px rgba(0, 0, 0, 0.15);\n",
              "      filter: drop-shadow(0px 1px 2px rgba(0, 0, 0, 0.3));\n",
              "      fill: #FFFFFF;\n",
              "    }\n",
              "  </style>\n",
              "\n",
              "      <script>\n",
              "        const buttonEl =\n",
              "          document.querySelector('#df-cbda00de-83ed-4840-a2f7-4f70ded7a99b button.colab-df-convert');\n",
              "        buttonEl.style.display =\n",
              "          google.colab.kernel.accessAllowed ? 'block' : 'none';\n",
              "\n",
              "        async function convertToInteractive(key) {\n",
              "          const element = document.querySelector('#df-cbda00de-83ed-4840-a2f7-4f70ded7a99b');\n",
              "          const dataTable =\n",
              "            await google.colab.kernel.invokeFunction('convertToInteractive',\n",
              "                                                     [key], {});\n",
              "          if (!dataTable) return;\n",
              "\n",
              "          const docLinkHtml = 'Like what you see? Visit the ' +\n",
              "            '<a target=\"_blank\" href=https://colab.research.google.com/notebooks/data_table.ipynb>data table notebook</a>'\n",
              "            + ' to learn more about interactive tables.';\n",
              "          element.innerHTML = '';\n",
              "          dataTable['output_type'] = 'display_data';\n",
              "          await google.colab.output.renderOutput(dataTable, element);\n",
              "          const docLink = document.createElement('div');\n",
              "          docLink.innerHTML = docLinkHtml;\n",
              "          element.appendChild(docLink);\n",
              "        }\n",
              "      </script>\n",
              "    </div>\n",
              "  </div>\n",
              "  "
            ]
          },
          "metadata": {},
          "execution_count": 5
        }
      ]
    },
    {
      "cell_type": "code",
      "source": [
        "df.columns"
      ],
      "metadata": {
        "colab": {
          "base_uri": "https://localhost:8080/"
        },
        "id": "Oj-k5XJNCNOr",
        "outputId": "029b66df-0783-4f9d-b88d-5e3ccd93bdd5"
      },
      "execution_count": 6,
      "outputs": [
        {
          "output_type": "execute_result",
          "data": {
            "text/plain": [
              "Index(['country', 'child_mort', 'exports', 'health', 'imports', 'income',\n",
              "       'inflation', 'life_expec', 'total_fer', 'gdpp'],\n",
              "      dtype='object')"
            ]
          },
          "metadata": {},
          "execution_count": 6
        }
      ]
    },
    {
      "cell_type": "code",
      "source": [
        "names = df[[\"country\"]]\n",
        "X = df.drop([\"country\"], axis = 1)\n",
        "\n"
      ],
      "metadata": {
        "id": "amzzWZ-G9SNe"
      },
      "execution_count": 7,
      "outputs": []
    },
    {
      "cell_type": "code",
      "source": [
        "scaler = StandardScaler().fit(X)\n",
        "X_scaled = scaler.transform(X)"
      ],
      "metadata": {
        "id": "PavsPgGU9Rrx"
      },
      "execution_count": 8,
      "outputs": []
    },
    {
      "cell_type": "code",
      "source": [],
      "metadata": {
        "id": "DKi1mPRN9DOk"
      },
      "execution_count": null,
      "outputs": []
    },
    {
      "cell_type": "code",
      "source": [],
      "metadata": {
        "id": "_pymTFCVMZCN"
      },
      "execution_count": null,
      "outputs": []
    },
    {
      "cell_type": "markdown",
      "source": [
        "# 1.) Run a PCA Algorithm to get 2 Principle Components for the 9 X features"
      ],
      "metadata": {
        "id": "YLn6XlFqMaCY"
      }
    },
    {
      "cell_type": "code",
      "source": [
        "pca = PCA(n_components=2)\n",
        "principal_components = pca.fit_transform(X_scaled)"
      ],
      "metadata": {
        "id": "ntDMWRN-8yAi"
      },
      "execution_count": 9,
      "outputs": []
    },
    {
      "cell_type": "code",
      "source": [
        "print(principal_components)"
      ],
      "metadata": {
        "id": "bzwvr8PJMtrr",
        "colab": {
          "base_uri": "https://localhost:8080/"
        },
        "outputId": "9da46cf5-466c-4bc3-db30-8ab77607a10c"
      },
      "execution_count": 10,
      "outputs": [
        {
          "output_type": "stream",
          "name": "stdout",
          "text": [
            "[[-2.91302459e+00  9.56205755e-02]\n",
            " [ 4.29911330e-01 -5.88155666e-01]\n",
            " [-2.85225077e-01 -4.55174413e-01]\n",
            " [-2.93242265e+00  1.69555507e+00]\n",
            " [ 1.03357587e+00  1.36658709e-01]\n",
            " [ 2.24072616e-02 -1.77918658e+00]\n",
            " [-1.01583737e-01 -5.68251724e-01]\n",
            " [ 2.34216461e+00 -1.98845915e+00]\n",
            " [ 2.97376366e+00 -7.34688659e-01]\n",
            " [-1.81486997e-01 -4.02865873e-01]\n",
            " [ 1.26874386e+00 -6.56588363e-01]\n",
            " [ 1.67099640e+00  5.61162493e-01]\n",
            " [-1.12385093e+00 -9.61397405e-01]\n",
            " [ 1.08137420e+00 -4.81969530e-01]\n",
            " [ 5.80025152e-01  5.35326834e-01]\n",
            " [ 3.14378596e+00  6.63547921e-01]\n",
            " [ 2.11255447e-01  6.99242662e-01]\n",
            " [-2.67231388e+00  4.18172125e-01]\n",
            " [-1.56570962e-01  7.77395617e-01]\n",
            " [-7.93851561e-01 -1.20261085e-01]\n",
            " [ 9.95867143e-01 -9.71888439e-01]\n",
            " [-8.82087639e-01  4.57368180e-01]\n",
            " [ 1.40781361e-01 -2.15107731e+00]\n",
            " [ 2.46008609e+00  1.64540436e-02]\n",
            " [ 9.06594515e-01  3.02776054e-02]\n",
            " [-3.12205344e+00  3.87749688e-02]\n",
            " [-2.89897068e+00 -4.22663328e-01]\n",
            " [-5.82411867e-01  8.94820332e-01]\n",
            " [-2.80790857e+00  7.86488969e-02]\n",
            " [ 2.54363055e+00 -1.72709470e+00]\n",
            " [-1.55801452e-01  3.51235458e-01]\n",
            " [-3.96496402e+00  3.86619319e-01]\n",
            " [-3.55755520e+00  1.28912809e+00]\n",
            " [ 9.51656055e-01 -1.07642827e+00]\n",
            " [ 5.74819803e-02 -1.18999652e+00]\n",
            " [ 1.21146120e-01 -1.76890914e+00]\n",
            " [-2.09355643e+00  3.43600988e-01]\n",
            " [-3.17337012e+00  1.05038163e+00]\n",
            " [-1.72567641e+00  2.17634895e+00]\n",
            " [ 9.37826615e-01 -1.35047238e+00]\n",
            " [-2.58170623e+00  1.20787342e+00]\n",
            " [ 1.14886344e+00 -8.44812046e-01]\n",
            " [ 2.17445492e+00 -4.51044737e-03]\n",
            " [ 2.05326329e+00  4.23198280e-01]\n",
            " [ 3.01049182e+00 -8.65548729e-01]\n",
            " [-2.31102923e-01 -8.80641302e-01]\n",
            " [ 9.61833240e-03 -1.04522097e+00]\n",
            " [-8.48186699e-01 -8.19818902e-01]\n",
            " [ 8.18678445e-02 -5.67803943e-01]\n",
            " [-1.29342284e+00  2.36369455e+00]\n",
            " [-2.47469590e+00 -6.18025236e-01]\n",
            " [ 1.65908340e+00  1.02156447e+00]\n",
            " [-1.88828409e-01  1.07176458e+00]\n",
            " [ 2.45896019e+00 -1.07614294e+00]\n",
            " [ 2.25427080e+00 -1.86663813e+00]\n",
            " [-1.42171455e+00  3.19723358e-01]\n",
            " [-2.21366958e+00  2.23495896e-01]\n",
            " [ 3.21942207e-01 -5.18255225e-01]\n",
            " [ 2.67142195e+00 -1.27360990e+00]\n",
            " [-2.05416693e+00  3.80034393e-01]\n",
            " [ 1.77949294e+00 -1.76539693e+00]\n",
            " [ 1.45504799e-01 -4.31336366e-01]\n",
            " [-6.63503125e-01 -6.13910837e-01]\n",
            " [-2.96952947e+00  7.28533786e-01]\n",
            " [-2.83361647e+00 -9.11281950e-02]\n",
            " [-3.22781465e-01  1.36134136e+00]\n",
            " [-4.40971727e+00  1.74223049e+00]\n",
            " [ 1.83916013e+00  1.27296493e+00]\n",
            " [ 2.48092396e+00 -6.34701926e-01]\n",
            " [-1.34282579e+00 -5.35138946e-01]\n",
            " [-9.54750124e-01 -7.32361786e-01]\n",
            " [-1.06461193e-03 -1.33434959e+00]\n",
            " [-1.02922816e+00 -2.83269323e-01]\n",
            " [ 3.66862804e+00  1.72949317e+00]\n",
            " [ 1.48531666e+00 -1.04922436e+00]\n",
            " [ 2.16580995e+00 -1.77248548e+00]\n",
            " [ 1.86093002e-02 -2.38961304e-01]\n",
            " [ 2.26588199e+00 -2.43559383e+00]\n",
            " [ 1.60142643e-01  5.41065172e-01]\n",
            " [-2.93346500e-01 -2.37525434e-01]\n",
            " [-1.87470247e+00 -1.71029967e-01]\n",
            " [-1.23921686e+00  3.69138411e-01]\n",
            " [ 2.46565870e+00  8.80497785e-02]\n",
            " [-3.39969880e-01  1.29819641e+00]\n",
            " [-1.52776995e+00  5.45786891e-01]\n",
            " [ 1.18883984e+00  1.62040035e-01]\n",
            " [ 1.17199076e+00 -2.56295112e-01]\n",
            " [-1.80315140e+00  2.03785098e+00]\n",
            " [-1.77358023e+00  1.05339867e+00]\n",
            " [ 8.18943051e-01  3.89841660e-01]\n",
            " [ 1.40978812e+00  7.29833198e-01]\n",
            " [ 6.91775496e+00  4.84984369e+00]\n",
            " [ 7.33210319e-01 -9.48674314e-02]\n",
            " [-2.13600867e+00  3.42733042e-01]\n",
            " [-2.97988525e+00  2.16622419e-01]\n",
            " [ 1.23082842e+00  1.60174864e+00]\n",
            " [ 1.10860101e+00  1.00931426e+00]\n",
            " [-3.41225513e+00  5.61468514e-01]\n",
            " [ 3.67954260e+00  4.76548605e+00]\n",
            " [-1.95392747e+00  1.38338452e+00]\n",
            " [ 8.99775055e-01  4.16479781e-01]\n",
            " [-3.80928795e-01  1.01773629e-01]\n",
            " [ 5.09539453e-01  1.61658340e-01]\n",
            " [-9.44975538e-01  5.29799562e-01]\n",
            " [ 1.02668389e+00 -2.57641566e-01]\n",
            " [-2.32870156e-01 -2.81027769e-01]\n",
            " [-2.92054051e+00  8.93270294e-01]\n",
            " [-1.83719774e+00 -1.61366899e+00]\n",
            " [-1.04337471e+00  1.00284112e+00]\n",
            " [-1.30708985e+00 -7.89048631e-01]\n",
            " [ 3.37915727e+00  1.15702442e-01]\n",
            " [ 1.81574666e+00 -1.58472369e+00]\n",
            " [-3.45016774e+00  9.69922452e-01]\n",
            " [-4.91206615e+00 -9.44986846e-02]\n",
            " [ 3.72119513e+00 -1.44725498e+00]\n",
            " [ 1.12738665e+00  4.91611136e-01]\n",
            " [-2.36034718e+00 -4.79399646e-01]\n",
            " [ 1.16378429e+00  1.11527620e+00]\n",
            " [ 1.17846224e-01  3.61031140e-01]\n",
            " [-2.06354519e-02 -1.08661741e+00]\n",
            " [-7.82745871e-01 -9.64980905e-02]\n",
            " [ 1.21782754e+00 -6.59168961e-01]\n",
            " [ 1.81406748e+00 -1.45088654e+00]\n",
            " [ 4.24229634e+00 -1.95603674e-01]\n",
            " [ 5.72792704e-01 -6.37384843e-01]\n",
            " [ 1.63761544e-01 -1.06667848e+00]\n",
            " [-1.67970356e+00 -1.00162862e+00]\n",
            " [-5.62897632e-01 -2.21043960e-02]\n",
            " [ 8.55935813e-01 -1.83440759e-01]\n",
            " [-1.91217031e+00  9.15599347e-02]\n",
            " [ 8.32420187e-01 -8.69325996e-01]\n",
            " [ 1.60259775e+00  2.93912057e+00]\n",
            " [-3.38162479e+00 -2.36301516e-01]\n",
            " [ 5.78337630e+00  6.68209028e+00]\n",
            " [ 2.02972370e+00  1.05040745e+00]\n",
            " [ 2.27949171e+00  1.95275226e-01]\n",
            " [-8.06209136e-01  1.30349059e+00]\n",
            " [-1.19183736e+00 -5.56757164e-01]\n",
            " [ 1.91806245e+00 -4.27468245e-01]\n",
            " [ 2.01919721e+00 -1.78438246e+00]\n",
            " [-5.75572155e-01 -9.97551478e-01]\n",
            " [ 2.66234652e-02 -1.60640815e-02]\n",
            " [-2.31942387e+00 -7.69407328e-01]\n",
            " [ 1.71674731e-01 -9.48076409e-02]\n",
            " [ 2.81832286e+00 -9.14480968e-01]\n",
            " [ 4.08854413e+00 -4.29461909e-01]\n",
            " [-1.24446436e+00 -2.89174316e-02]\n",
            " [-2.55404919e+00 -2.15027956e-01]\n",
            " [ 9.26092707e-01  8.28230655e-01]\n",
            " [-2.37197047e+00 -1.17751295e+00]\n",
            " [-1.99764225e+00  9.58361586e-01]\n",
            " [-7.55008538e-01 -8.78938568e-02]\n",
            " [ 6.02231612e-01  1.73435708e-01]\n",
            " [ 4.01437705e-01 -1.41198973e+00]\n",
            " [-4.63936165e-01  1.29187347e+00]\n",
            " [-2.85483624e+00 -3.52082382e-01]\n",
            " [ 3.02299800e-01 -9.75710669e-02]\n",
            " [ 2.42714125e+00  1.15181307e+00]\n",
            " [ 2.06798993e+00 -1.53531349e+00]\n",
            " [ 2.64120583e+00 -2.99736446e+00]\n",
            " [ 6.17312598e-01 -1.43047723e+00]\n",
            " [-8.53528944e-01 -6.54485112e-01]\n",
            " [-8.20631131e-01  6.39570072e-01]\n",
            " [-5.51035564e-01 -1.23388618e+00]\n",
            " [ 4.98524385e-01  1.39074432e+00]\n",
            " [-1.88745106e+00 -1.09453015e-01]\n",
            " [-2.86406392e+00  4.85997985e-01]]\n"
          ]
        }
      ]
    },
    {
      "cell_type": "code",
      "source": [],
      "metadata": {
        "id": "7MOo8dEeTIOc"
      },
      "execution_count": null,
      "outputs": []
    },
    {
      "cell_type": "markdown",
      "source": [
        "# 2.) Plot a Scatter plot of the PCs on the axis"
      ],
      "metadata": {
        "id": "f_va0W8hO9X4"
      }
    },
    {
      "cell_type": "code",
      "source": [
        "plt.scatter(principal_components[:, 0], principal_components[:, 1])\n",
        "plt.xlabel('PC 1')\n",
        "plt.ylabel('PC 2')\n",
        "plt.show()"
      ],
      "metadata": {
        "id": "jI7MGy6lO_Pg",
        "colab": {
          "base_uri": "https://localhost:8080/",
          "height": 279
        },
        "outputId": "1a26baa4-6ec6-460e-da7f-95d6474117c9"
      },
      "execution_count": 11,
      "outputs": [
        {
          "output_type": "display_data",
          "data": {
            "text/plain": [
              "<Figure size 432x288 with 1 Axes>"
            ],
            "image/png": "[encoded data removed]"
          },
          "metadata": {
            "needs_background": "light"
          }
        }
      ]
    },
    {
      "cell_type": "code",
      "source": [],
      "metadata": {
        "id": "rNivI-EkPBBp"
      },
      "execution_count": null,
      "outputs": []
    },
    {
      "cell_type": "markdown",
      "source": [
        "# 3.) Rank the features in order of importance according to PCA"
      ],
      "metadata": {
        "id": "wSCxsFS3PCf8"
      }
    },
    {
      "cell_type": "code",
      "source": [
        "loadings = pca.components_\n",
        "\n",
        "# Get the absolute coefficients of the first two principal components\n",
        "abs_coeffs = np.abs(loadings[:2, :])\n",
        "\n",
        "# Compute the feature importance scores by summing the absolute coefficients across the two principal components\n",
        "feat_scores = np.sum(abs_coeffs, axis=0)\n",
        "\n",
        "# Rank the features by importance based on their score\n",
        "feat_ranking = np.argsort(-feat_scores)\n",
        "\n",
        "# Print the feature ranking\n",
        "print(\"Feature ranking:\")\n",
        "for i, feat in enumerate(feat_ranking):\n",
        "    print(f\"{i+1}. Feature {feat+1} ({feat_scores[feat]:.3f})\")"
      ],
      "metadata": {
        "id": "WRZhputgPIZY",
        "colab": {
          "base_uri": "https://localhost:8080/"
        },
        "outputId": "30ab841a-842a-4999-b706-72d5e5dcdf99"
      },
      "execution_count": 12,
      "outputs": [
        {
          "output_type": "stream",
          "name": "stdout",
          "text": [
            "Feature ranking:\n",
            "1. Feature 2 (0.897)\n",
            "2. Feature 4 (0.833)\n",
            "3. Feature 7 (0.649)\n",
            "4. Feature 1 (0.612)\n",
            "5. Feature 8 (0.559)\n",
            "6. Feature 9 (0.439)\n",
            "7. Feature 5 (0.421)\n",
            "8. Feature 3 (0.394)\n",
            "9. Feature 6 (0.202)\n"
          ]
        }
      ]
    },
    {
      "cell_type": "markdown",
      "source": [
        "# 4.) Plot a heatmap of the feature importance (Fill in all parameters)"
      ],
      "metadata": {
        "id": "Y2nYnrxXP0Ky"
      }
    },
    {
      "cell_type": "code",
      "source": [
        "feature_names = df.columns[1:]"
      ],
      "metadata": {
        "id": "LlU0jqXGRI51"
      },
      "execution_count": 13,
      "outputs": []
    },
    {
      "cell_type": "code",
      "source": [
        "\n",
        "sns.heatmap(loadings, annot=True, cmap='coolwarm', xticklabels=list(X.columns), yticklabels=['PC1', 'PC2'], cbar_kws={'label':'feature_importance'})\n",
        "\n",
        "plt.xlabel('Original Features')\n",
        "plt.ylabel('Principal Components')\n",
        "plt.title('Loadings Heatmap')\n",
        "plt.show()"
      ],
      "metadata": {
        "id": "WYSDhxtQP4I9",
        "colab": {
          "base_uri": "https://localhost:8080/",
          "height": 338
        },
        "outputId": "60b12ac0-292f-422a-fae0-821de9b40a7f"
      },
      "execution_count": 20,
      "outputs": [
        {
          "output_type": "display_data",
          "data": {
            "text/plain": [
              "<Figure size 432x288 with 2 Axes>"
            ],
            "image/png": "[encoded data removed]"
          },
          "metadata": {
            "needs_background": "light"
          }
        }
      ]
    },
    {
      "cell_type": "markdown",
      "source": [
        "# 5.) Plot a correlation plot of the original features. What do you notice between the graphs of 4 & 5?"
      ],
      "metadata": {
        "id": "7eYO_DIqQLa1"
      }
    },
    {
      "cell_type": "code",
      "source": [
        "import seaborn as sns\n",
        "import pandas as pd\n",
        "\n",
        "corr = X.corr()\n",
        "\n",
        "sns.heatmap(corr, cmap='coolwarm', annot=True, fmt='.2f')\n",
        "plt.xticks(rotation=45, ha='right')\n",
        "plt.yticks(rotation=0)\n",
        "plt.show()"
      ],
      "metadata": {
        "id": "CcchjDAOQRah",
        "colab": {
          "base_uri": "https://localhost:8080/",
          "height": 304
        },
        "outputId": "3f2b903e-77bc-45bf-cb5b-eaf0411dcb3d"
      },
      "execution_count": 21,
      "outputs": [
        {
          "output_type": "display_data",
          "data": {
            "text/plain": [
              "<Figure size 432x288 with 2 Axes>"
            ],
            "image/png": "[encoded data removed]"
          },
          "metadata": {
            "needs_background": "light"
          }
        }
      ]
    },
    {
      "cell_type": "markdown",
      "source": [
        "I noticed that exports and imports has the highest correlation, in the same time, they are the highest two important features. "
      ],
      "metadata": {
        "id": "zl2f1TI0KxOE"
      }
    },
    {
      "cell_type": "code",
      "source": [],
      "metadata": {
        "id": "o3lRlTaGQTFS"
      },
      "execution_count": null,
      "outputs": []
    },
    {
      "cell_type": "code",
      "source": [],
      "metadata": {
        "id": "5uv_ZcwkROFC"
      },
      "execution_count": null,
      "outputs": []
    },
    {
      "cell_type": "markdown",
      "source": [
        "# 6.) Run a PCA with 9 PCs. Plot a Cumulative Explained Variance Plot. How many PCs should we use if we want to retain 95% of the variance?"
      ],
      "metadata": {
        "id": "M5b2-CEoROqn"
      }
    },
    {
      "cell_type": "code",
      "source": [
        "pca = PCA(n_components=9)\n",
        "X_pca = pca.fit(X_scaled)"
      ],
      "metadata": {
        "id": "phLMQK2gRVZO"
      },
      "execution_count": 22,
      "outputs": []
    },
    {
      "cell_type": "code",
      "source": [
        "cumulative_explained_variance = np.cumsum(pca.explained_variance_ratio_)\n",
        "\n",
        "plt.plot(np.arange(1, len(cumulative_explained_variance) + 1), cumulative_explained_variance, marker='o')\n",
        "plt.xlabel('Number of Principal Components')\n",
        "plt.ylabel('Cumulative Explained Variance')\n",
        "plt.title('Cumulative Explained Variance Plot')\n",
        "plt.grid()\n",
        "plt.show()"
      ],
      "metadata": {
        "colab": {
          "base_uri": "https://localhost:8080/",
          "height": 295
        },
        "id": "taitnUW4RWHo",
        "outputId": "0bb3fb50-d05d-4953-9896-27772f2becc1"
      },
      "execution_count": 23,
      "outputs": [
        {
          "output_type": "display_data",
          "data": {
            "text/plain": [
              "<Figure size 432x288 with 1 Axes>"
            ],
            "image/png": "[encoded data removed]"
          },
          "metadata": {
            "needs_background": "light"
          }
        }
      ]
    },
    {
      "cell_type": "markdown",
      "source": [
        "it looks like we would need to use around 5 principal components to retain 95% of the variance."
      ],
      "metadata": {
        "id": "tSSkdRHNL-j3"
      }
    }
  ]
}